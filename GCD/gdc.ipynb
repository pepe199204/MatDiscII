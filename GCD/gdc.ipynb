{
 "cells": [
  {
   "cell_type": "code",
   "execution_count": null,
   "metadata": {},
   "outputs": [],
   "source": [
    "def gcd(a, b):\n",
    "    while a != b:\n",
    "        if a > b:\n",
    "            a = a - b\n",
    "        else:\n",
    "            b = b - a\n",
    "    return a\n",
    "\n",
    "# Ejemplo de uso\n",
    "numero1 = int(input(\"Introduce el primer número: \"))\n",
    "numero2 = int(input(\"Introduce el segundo número: \"))\n",
    "\n",
    "resultado = gcd(numero1, numero2)\n",
    "print(f\"El Máximo Común Divisor de {numero1} y {numero2} es: {resultado}\")\n"
   ]
  },
  {
   "cell_type": "code",
   "execution_count": null,
   "metadata": {},
   "outputs": [],
   "source": [
    "def gcd(a, b):\n",
    "    while b != 0:\n",
    "        a, b = b, a % b\n",
    "    return a\n",
    "\n",
    "# Ejemplo de uso\n",
    "numero1 = int(input(\"Introduce el primer número: \"))\n",
    "numero2 = int(input(\"Introduce el segundo número: \"))\n",
    "\n",
    "resultado = gcd(numero1, numero2)\n",
    "print(f\"El Máximo Común Divisor de {numero1} y {numero2} es: {resultado}\")\n"
   ]
  }
 ],
 "metadata": {
  "language_info": {
   "name": "python"
  }
 },
 "nbformat": 4,
 "nbformat_minor": 2
}
